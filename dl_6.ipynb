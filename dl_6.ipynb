{
  "nbformat": 4,
  "nbformat_minor": 0,
  "metadata": {
    "colab": {
      "name": "dl_6.ipynb",
      "version": "0.3.2",
      "provenance": [],
      "include_colab_link": true
    },
    "kernelspec": {
      "name": "python3",
      "display_name": "Python 3"
    }
  },
  "cells": [
    {
      "cell_type": "markdown",
      "metadata": {
        "id": "view-in-github",
        "colab_type": "text"
      },
      "source": [
        "<a href=\"https://colab.research.google.com/github/sumguyneedz/ACM-ICPC-Preparation/blob/master/dl_6.ipynb\" target=\"_parent\"><img src=\"https://colab.research.google.com/assets/colab-badge.svg\" alt=\"Open In Colab\"/></a>"
      ]
    },
    {
      "cell_type": "code",
      "metadata": {
        "id": "3U64lc0rxO8m",
        "colab_type": "code",
        "colab": {}
      },
      "source": [
        ""
      ],
      "execution_count": 0,
      "outputs": []
    },
    {
      "cell_type": "code",
      "metadata": {
        "id": "AtFGW3NSxXZk",
        "colab_type": "code",
        "colab": {}
      },
      "source": [
        "import numpy as np\n",
        "import tensorflow as tf\n"
      ],
      "execution_count": 0,
      "outputs": []
    },
    {
      "cell_type": "markdown",
      "metadata": {
        "id": "8RtC6ZuexQz1",
        "colab_type": "text"
      },
      "source": [
        "Constant"
      ]
    },
    {
      "cell_type": "code",
      "metadata": {
        "id": "tdpdmIiXxcv8",
        "colab_type": "code",
        "colab": {}
      },
      "source": [
        "a = tf.constant(3)\n",
        "b = tf.constant(5)\n",
        "c= a+b"
      ],
      "execution_count": 0,
      "outputs": []
    },
    {
      "cell_type": "code",
      "metadata": {
        "id": "dYyuoLSnxjFM",
        "colab_type": "code",
        "colab": {
          "base_uri": "https://localhost:8080/",
          "height": 34
        },
        "outputId": "493ae4d5-2ca2-41d4-e66f-7002398f0f55"
      },
      "source": [
        "# Print (c)\n",
        "\n",
        "tf.InteractiveSession()\n",
        "print(c.eval())"
      ],
      "execution_count": 4,
      "outputs": [
        {
          "output_type": "stream",
          "text": [
            "8\n"
          ],
          "name": "stdout"
        }
      ]
    },
    {
      "cell_type": "code",
      "metadata": {
        "id": "TU_W2j56xk0c",
        "colab_type": "code",
        "colab": {
          "base_uri": "https://localhost:8080/",
          "height": 34
        },
        "outputId": "2bb767c7-eac0-4154-adeb-94b8b70b948b"
      },
      "source": [
        "with tf.Session() as sess:\n",
        "  print(sess.run(c))"
      ],
      "execution_count": 6,
      "outputs": [
        {
          "output_type": "stream",
          "text": [
            "8\n"
          ],
          "name": "stdout"
        }
      ]
    },
    {
      "cell_type": "code",
      "metadata": {
        "id": "iQfJ26C2x2z7",
        "colab_type": "code",
        "colab": {}
      },
      "source": [
        ""
      ],
      "execution_count": 0,
      "outputs": []
    },
    {
      "cell_type": "markdown",
      "metadata": {
        "id": "Ju3pxBcux-Rs",
        "colab_type": "text"
      },
      "source": [
        "variable\n"
      ]
    },
    {
      "cell_type": "code",
      "metadata": {
        "id": "zCZ2eljZyC6b",
        "colab_type": "code",
        "colab": {}
      },
      "source": [
        "import numpy as np \n",
        "import tensorflow as tf\n"
      ],
      "execution_count": 0,
      "outputs": []
    },
    {
      "cell_type": "code",
      "metadata": {
        "id": "sxgyvKb1yLDc",
        "colab_type": "code",
        "colab": {
          "base_uri": "https://localhost:8080/",
          "height": 190
        },
        "outputId": "dc5314fa-3627-4783-ae14-e609f5c8a068"
      },
      "source": [
        "a = tf.Variable(0)\n",
        "b = tf.constant(1)\n",
        "mid = tf.add(a,b)\n",
        "final = tf.assign(a,mid)\n",
        "var = tf.initialize_all_variables()\n",
        "with tf.Session() as sess:\n",
        "  sess.run(var)\n",
        "  for i in range(3):\n",
        "    # TODO complete sess.run(update)\n",
        "    sess.run(final), print(sess.run(a))"
      ],
      "execution_count": 12,
      "outputs": [
        {
          "output_type": "stream",
          "text": [
            "WARNING:tensorflow:From /usr/local/lib/python3.6/dist-packages/tensorflow/python/framework/op_def_library.py:263: colocate_with (from tensorflow.python.framework.ops) is deprecated and will be removed in a future version.\n",
            "Instructions for updating:\n",
            "Colocations handled automatically by placer.\n",
            "WARNING:tensorflow:From /usr/local/lib/python3.6/dist-packages/tensorflow/python/util/tf_should_use.py:193: initialize_all_variables (from tensorflow.python.ops.variables) is deprecated and will be removed after 2017-03-02.\n",
            "Instructions for updating:\n",
            "Use `tf.global_variables_initializer` instead.\n",
            "1\n",
            "2\n",
            "3\n"
          ],
          "name": "stdout"
        }
      ]
    },
    {
      "cell_type": "code",
      "metadata": {
        "id": "KMdJIQRhymoV",
        "colab_type": "code",
        "colab": {}
      },
      "source": [
        ""
      ],
      "execution_count": 0,
      "outputs": []
    },
    {
      "cell_type": "markdown",
      "metadata": {
        "id": "Jq87UPLxywGl",
        "colab_type": "text"
      },
      "source": [
        "Place holder\n"
      ]
    },
    {
      "cell_type": "code",
      "metadata": {
        "id": "PZ9iPiU5yyf8",
        "colab_type": "code",
        "colab": {}
      },
      "source": [
        "x = tf.placeholder(\"float\",[None,3])"
      ],
      "execution_count": 0,
      "outputs": []
    },
    {
      "cell_type": "code",
      "metadata": {
        "id": "bymLEgITy8he",
        "colab_type": "code",
        "colab": {}
      },
      "source": [
        "y= x**2"
      ],
      "execution_count": 0,
      "outputs": []
    },
    {
      "cell_type": "code",
      "metadata": {
        "id": "hqymbM28zBIN",
        "colab_type": "code",
        "colab": {
          "base_uri": "https://localhost:8080/",
          "height": 51
        },
        "outputId": "72157b9f-c3a8-435c-aba1-92b4cec8b7bc"
      },
      "source": [
        "with tf.Session() as sess:\n",
        "  x_data=[[1,2,3],[4,5,6]]\n",
        "  result = sess.run(y,feed_dict={x:x_data})\n",
        "  print(result)"
      ],
      "execution_count": 16,
      "outputs": [
        {
          "output_type": "stream",
          "text": [
            "[[ 1.  4.  9.]\n",
            " [16. 25. 36.]]\n"
          ],
          "name": "stdout"
        }
      ]
    }
  ]
}