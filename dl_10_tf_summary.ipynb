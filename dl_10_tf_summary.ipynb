{
  "nbformat": 4,
  "nbformat_minor": 0,
  "metadata": {
    "colab": {
      "name": "dl_10 tf_summary.ipynb",
      "version": "0.3.2",
      "provenance": [],
      "collapsed_sections": [],
      "include_colab_link": true
    },
    "kernelspec": {
      "name": "python3",
      "display_name": "Python 3"
    }
  },
  "cells": [
    {
      "cell_type": "markdown",
      "metadata": {
        "id": "view-in-github",
        "colab_type": "text"
      },
      "source": [
        "<a href=\"https://colab.research.google.com/github/sumguyneedz/ACM-ICPC-Preparation/blob/master/dl_10_tf_summary.ipynb\" target=\"_parent\"><img src=\"https://colab.research.google.com/assets/colab-badge.svg\" alt=\"Open In Colab\"/></a>"
      ]
    },
    {
      "cell_type": "code",
      "metadata": {
        "id": "wSYOvBDBGoHd",
        "colab_type": "code",
        "colab": {}
      },
      "source": [
        "# \n",
        "#tf.summary.scalar\n",
        "#tf.summary.histogram\n",
        "#tf.summary.image"
      ],
      "execution_count": 0,
      "outputs": []
    },
    {
      "cell_type": "code",
      "metadata": {
        "id": "D1NShZqTHK-T",
        "colab_type": "code",
        "outputId": "e1bf1e3c-665c-4f41-a75c-488de978c477",
        "colab": {
          "base_uri": "https://localhost:8080/",
          "height": 88
        }
      },
      "source": [
        "# Randomly pick 100 values from a normal distribution N(0,1) and plot them one after the other\n",
        "\n",
        "import tensorflow as tf\n",
        "\n",
        "tf.reset_default_graph()\n",
        "\n",
        "s_scalar = tf.get_variable(name = 's_scalar', shape=[], initializer = tf.initializers.truncated_normal(mean = 0, stddev = 1))\n",
        "\n",
        "first_summary = tf.summary.scalar(name = 'First_summary', tensor = s_scalar)\n",
        "\n",
        "init = tf.global_variables_initializer()\n",
        "\n",
        "with tf.Session() as sess:\n",
        "  \n",
        "  writer = tf.summary.FileWriter('./logs', sess.graph)\n",
        "  \n",
        "  for i in range(100):\n",
        "    \n",
        "    sess.run(init)\n",
        "    summary = sess.run(first_summary)\n",
        "    writer.add_summary(summary,i)\n",
        "    "
      ],
      "execution_count": 0,
      "outputs": [
        {
          "output_type": "stream",
          "text": [
            "WARNING:tensorflow:From /usr/local/lib/python3.6/dist-packages/tensorflow/python/framework/op_def_library.py:263: colocate_with (from tensorflow.python.framework.ops) is deprecated and will be removed in a future version.\n",
            "Instructions for updating:\n",
            "Colocations handled automatically by placer.\n"
          ],
          "name": "stdout"
        }
      ]
    },
    {
      "cell_type": "code",
      "metadata": {
        "id": "N-c5nyyLJq0G",
        "colab_type": "code",
        "colab": {}
      },
      "source": [
        "# tf.summary.histogram\n",
        "\n",
        "# Randomly pick 100 values from a normal distribution N(0,1) and plot them one after the other\n",
        "\n",
        "import tensorflow as tf\n",
        "\n",
        "tf.reset_default_graph()\n",
        "\n",
        "s_scalar = tf.get_variable(name = 's_scalar', shape=[], initializer = tf.initializers.truncated_normal(mean = 0, stddev = 1))\n",
        "\n",
        "y_matrix = tf.get_variable(name = 'y_matrix', shape=[40, 50], initializer = tf.initializers.truncated_normal(mean = 0, stddev = 1))\n",
        "\n",
        "# A scalar summary for scalar tensor\n",
        "\n",
        "first_summary = tf.summary.scalar(name = 'First_summary', tensor = s_scalar)\n",
        "\n",
        "# A histogram summary first  non-scalar tensor 2D or 3D matrix\n",
        "histogram_summary = tf.summary.histogram('histogram_summary',y_matrix)\n",
        "\n",
        "init = tf.global_variables_initializer()\n",
        "\n",
        "with tf.Session() as sess:\n",
        "  \n",
        "  writer = tf.summary.FileWriter('./logs', sess.graph)\n",
        "  \n",
        "  for i in range(100):\n",
        "    \n",
        "    sess.run(init)\n",
        "    summary1, summary2 = sess.run([first_summary, histogram_summary])\n",
        "    writer.add_summary(summary1,i)\n",
        "    writer.add_summary(summary2,i)"
      ],
      "execution_count": 0,
      "outputs": []
    }
  ]
}