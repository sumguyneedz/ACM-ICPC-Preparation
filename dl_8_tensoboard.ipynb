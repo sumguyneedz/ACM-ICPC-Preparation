{
  "nbformat": 4,
  "nbformat_minor": 0,
  "metadata": {
    "colab": {
      "name": "dl_8_tensoboard.ipynb",
      "version": "0.3.2",
      "provenance": [],
      "include_colab_link": true
    },
    "kernelspec": {
      "name": "python3",
      "display_name": "Python 3"
    }
  },
  "cells": [
    {
      "cell_type": "markdown",
      "metadata": {
        "id": "view-in-github",
        "colab_type": "text"
      },
      "source": [
        "<a href=\"https://colab.research.google.com/github/sumguyneedz/ACM-ICPC-Preparation/blob/master/dl_8_tensoboard.ipynb\" target=\"_parent\"><img src=\"https://colab.research.google.com/assets/colab-badge.svg\" alt=\"Open In Colab\"/></a>"
      ]
    },
    {
      "cell_type": "code",
      "metadata": {
        "id": "hi1cDkrA5ZzG",
        "colab_type": "code",
        "colab": {
          "base_uri": "https://localhost:8080/",
          "height": 34
        },
        "outputId": "8428361e-bf72-4332-c5b3-c1520641a7a1"
      },
      "source": [
        "import tensorflow as tf\n",
        "\n",
        "a = tf.add(1,2)\n",
        "b = tf.multiply(a,3)\n",
        "c = tf.add(4,5)\n",
        "\n",
        "d = tf.multiply(c,6)\n",
        "e = tf.multiply(4,5)\n",
        "f = tf.div(c,6)\n",
        "\n",
        "g = tf.add(b,d)\n",
        "h = tf.multiply(g,f)\n",
        "\n",
        "with tf.Session() as sess:\n",
        "  writer = tf.summary.FileWriter(\"./logs\", sess.graph)\n",
        "  print(sess.run(h))\n",
        "  writer.close()\n"
      ],
      "execution_count": 10,
      "outputs": [
        {
          "output_type": "stream",
          "text": [
            "63\n"
          ],
          "name": "stdout"
        }
      ]
    },
    {
      "cell_type": "code",
      "metadata": {
        "id": "0387Tgml6YJv",
        "colab_type": "code",
        "colab": {
          "base_uri": "https://localhost:8080/",
          "height": 34
        },
        "outputId": "8c2b39f1-b8e8-4efd-e80f-a94935a0734a"
      },
      "source": [
        "import tensorflow as tf\n",
        "\n",
        "a = tf.add(1,2, name= \"addition_1\")\n",
        "b = tf.multiply(a,3, name=\"multiplying_1\")\n",
        "c = tf.add(4,5, name=\"multiplying_2\")\n",
        "\n",
        "d = tf.multiply(c,6)\n",
        "e = tf.multiply(4,5)\n",
        "f = tf.div(c,6, name=\"division\")\n",
        "\n",
        "g = tf.add(b,d)\n",
        "h = tf.multiply(g,f)\n",
        "\n",
        "with tf.Session() as sess:\n",
        "  writer = tf.summary.FileWriter(\"./logs\", sess.graph)\n",
        "  print(sess.run(h))\n",
        "  writer.close()"
      ],
      "execution_count": 9,
      "outputs": [
        {
          "output_type": "stream",
          "text": [
            "63\n"
          ],
          "name": "stdout"
        }
      ]
    },
    {
      "cell_type": "code",
      "metadata": {
        "id": "a616rTue8tDf",
        "colab_type": "code",
        "colab": {
          "base_uri": "https://localhost:8080/",
          "height": 34
        },
        "outputId": "323d7759-57b9-459d-b1f3-8a819ee20278"
      },
      "source": [
        "import tensorflow as tf\n",
        "\n",
        "with tf.name_scope(\"My_Graph\"):\n",
        "  with tf.name_scope(\"Scope_1\"):\n",
        "    a = tf.add(1,2, name= \"addition_1\")\n",
        "    b = tf.multiply(a,3, name=\"multiplying_1\")\n",
        "    with tf.name_scope(\"Scope_2\"):\n",
        "      c = tf.add(4,5, name=\"multiplying_2\")\n",
        "      d = tf.multiply(c,6)\n",
        "    \n",
        "    with tf.name_scope(\"Scope_3\"):\n",
        "      e = tf.multiply(4,5)\n",
        "      f = tf.div(c,6, name=\"division\")\n",
        "\n",
        "      g = tf.add(b,d)\n",
        "      h = tf.multiply(g,f)\n",
        "\n",
        "with tf.Session() as sess:\n",
        "  writer = tf.summary.FileWriter(\"./logs\", sess.graph)\n",
        "  print(sess.run(h))\n",
        "  writer.close()"
      ],
      "execution_count": 14,
      "outputs": [
        {
          "output_type": "stream",
          "text": [
            "63\n"
          ],
          "name": "stdout"
        }
      ]
    },
    {
      "cell_type": "code",
      "metadata": {
        "id": "Veyg9vhC-1Kg",
        "colab_type": "code",
        "colab": {}
      },
      "source": [
        "!cd logs"
      ],
      "execution_count": 0,
      "outputs": []
    },
    {
      "cell_type": "code",
      "metadata": {
        "id": "82M_2YvY-3e_",
        "colab_type": "code",
        "colab": {
          "base_uri": "https://localhost:8080/",
          "height": 34
        },
        "outputId": "c01b49e0-46c0-4284-d1c3-102af59483d0"
      },
      "source": [
        "!pwd\n"
      ],
      "execution_count": 16,
      "outputs": [
        {
          "output_type": "stream",
          "text": [
            "/content\n"
          ],
          "name": "stdout"
        }
      ]
    },
    {
      "cell_type": "code",
      "metadata": {
        "id": "O5ygp2d9-5Rv",
        "colab_type": "code",
        "colab": {
          "base_uri": "https://localhost:8080/",
          "height": 34
        },
        "outputId": "6b1b108a-2ae7-4695-c3e8-660d064866bc"
      },
      "source": [
        "cd logs"
      ],
      "execution_count": 17,
      "outputs": [
        {
          "output_type": "stream",
          "text": [
            "/content/logs\n"
          ],
          "name": "stdout"
        }
      ]
    },
    {
      "cell_type": "code",
      "metadata": {
        "id": "J7JSlTqE-7aw",
        "colab_type": "code",
        "colab": {
          "base_uri": "https://localhost:8080/",
          "height": 54
        },
        "outputId": "c83c0e52-7c21-4f25-f9d5-aa870dd2a64c"
      },
      "source": [
        "!cat content/logs/events.out.tfevents.1559525256.a3dc431ab847"
      ],
      "execution_count": 18,
      "outputs": [
        {
          "output_type": "stream",
          "text": [
            "cat: content/logs/events.out.tfevents.1559525256.a3dc431ab847: No such file or directory\n"
          ],
          "name": "stdout"
        }
      ]
    },
    {
      "cell_type": "code",
      "metadata": {
        "id": "t-xkGX0d_Ajv",
        "colab_type": "code",
        "colab": {}
      },
      "source": [
        "# TODO use cmd to save logs and paste https address"
      ],
      "execution_count": 0,
      "outputs": []
    }
  ]
}