{
  "nbformat": 4,
  "nbformat_minor": 0,
  "metadata": {
    "colab": {
      "name": "dl_18_yes.ipynb",
      "version": "0.3.2",
      "provenance": [],
      "collapsed_sections": [],
      "include_colab_link": true
    },
    "kernelspec": {
      "name": "python3",
      "display_name": "Python 3"
    },
    "accelerator": "GPU"
  },
  "cells": [
    {
      "cell_type": "markdown",
      "metadata": {
        "id": "view-in-github",
        "colab_type": "text"
      },
      "source": [
        "<a href=\"https://colab.research.google.com/github/sumguyneedz/ACM-ICPC-Preparation/blob/master/dl_18_yes.ipynb\" target=\"_parent\"><img src=\"https://colab.research.google.com/assets/colab-badge.svg\" alt=\"Open In Colab\"/></a>"
      ]
    },
    {
      "cell_type": "code",
      "metadata": {
        "id": "bG8SfSh92IwU",
        "colab_type": "code",
        "colab": {}
      },
      "source": [
        "# Import the dependencies\n",
        "\n",
        "import cv2\n",
        "import matplotlib.pyplot as plt\n",
        "import numpy as np\n",
        "import tensorflow as tf\n",
        "from keras.utils import np_utils"
      ],
      "execution_count": 0,
      "outputs": []
    },
    {
      "cell_type": "code",
      "metadata": {
        "id": "VEs4EhB42eJX",
        "colab_type": "code",
        "colab": {
          "base_uri": "https://localhost:8080/",
          "height": 68
        },
        "outputId": "170ac7dd-033b-4312-cbc9-a500ee1d35e3"
      },
      "source": [
        "# url https://www.kaggle.com/c/digit-recognizer/data\n",
        "\n",
        "img_train = np.loadtxt('train.csv', delimiter=',', skiprows=1)[:,:]\n",
        "\n",
        "print(\"Training_data: {0}\".format(img_train.shape))\n",
        "\n",
        "X_train = np.array(img_train[:,1:])\n",
        "\n",
        "train_label = np.array(img_train[:,0])\n",
        "\n",
        "print(X_train.shape)\n",
        "print(train_label.shape)"
      ],
      "execution_count": 14,
      "outputs": [
        {
          "output_type": "stream",
          "text": [
            "Training_data: (42000, 785)\n",
            "(42000, 784)\n",
            "(42000,)\n"
          ],
          "name": "stdout"
        }
      ]
    },
    {
      "cell_type": "code",
      "metadata": {
        "id": "SdXqzpo_-g3c",
        "colab_type": "code",
        "colab": {
          "base_uri": "https://localhost:8080/",
          "height": 303
        },
        "outputId": "40591d45-e193-462c-ed06-2ef85e199743"
      },
      "source": [
        "# rescaling of the data\n",
        "# As data is already float 64 and np so no need to use type\n",
        "\n",
        "X_train_1 = X_train/255\n",
        "Y_train = np_utils.to_categorical(train_label)\n",
        "print(Y_train.shape)\n",
        "print(X_train_1.shape)\n",
        "plt.imshow(X_train_1[3].reshape(28,28), cmap = 'gray')\n",
        "plt.show()"
      ],
      "execution_count": 16,
      "outputs": [
        {
          "output_type": "stream",
          "text": [
            "(42000, 10)\n",
            "(42000, 784)\n"
          ],
          "name": "stdout"
        },
        {
          "output_type": "display_data",
          "data": {
            "image/png": "[encoded data removed]",
            "text/plain": [
              "<Figure size 432x288 with 1 Axes>"
            ]
          },
          "metadata": {
            "tags": []
          }
        }
      ]
    },
    {
      "cell_type": "code",
      "metadata": {
        "id": "XIvu-dNW8NXo",
        "colab_type": "code",
        "colab": {}
      },
      "source": [
        "# Define the placeholder\n",
        "X = tf.placeholder(tf.float32, [None, 784])\n",
        "Y = tf.placeholder(tf.float32, [None, 10])\n",
        "\n",
        "# Create a NN of single layer having 1000 nodes using tensorflow api\n",
        "\n",
        "n_hidden = 1000\n",
        "n_output = 10 \n",
        "learning_rate = 0.1\n",
        "\n",
        "# Network model\n",
        "Z1 = tf.layers.dense(X, n_hidden, activation = tf.nn.relu)\n",
        "output_layer = tf.layers.dense(Z1, n_output, activation = tf.nn.softmax)\n",
        "\n",
        "# Define the loss\n",
        "computed_loss = tf.reduce_mean(tf.nn.softmax_cross_entropy_with_logits_v2(logits = output_layer, labels = Y))\n",
        "\n",
        "# Define the optimizer\n",
        "optimizer = tf.train.GradientDescentOptimizer(learning_rate = learning_rate).minimize(computed_loss)\n",
        "\n",
        "# Define prediction\n",
        "prediction_out = tf.equal(tf.argmax(output_layer,1), tf.argmax(Y, 1))\n",
        "\n",
        "# Intialize all the variables\n",
        "init = tf.global_variables_initializer()"
      ],
      "execution_count": 0,
      "outputs": []
    },
    {
      "cell_type": "code",
      "metadata": {
        "id": "ah14qiDK4zlb",
        "colab_type": "code",
        "colab": {
          "base_uri": "https://localhost:8080/",
          "height": 286
        },
        "outputId": "c70dd4a5-0674-4c8a-ed66-0951b5752a65"
      },
      "source": [
        "X_train_2 = X_train_1[train_label == 4]\n",
        "print(X_train_2.shape)\n",
        "\n",
        "# Test image\n",
        "X_train_reshape = X_train_2.reshape(-1, 28, 28)\n",
        "pic=np.zeros((28,28))\n",
        "pic2=np.copy(pic)\n",
        "for i in range (X_train_reshape.shape[0]):\n",
        "  pic2=X_train_reshape[i,:,:]\n",
        "  pic= pic+pic2\n",
        "test_image=(pic/X_train_reshape.shape[0])\n",
        "plt.imshow(test_image, cmap='gray')\n",
        "plt.show()\n",
        "  \n",
        "  "
      ],
      "execution_count": 18,
      "outputs": [
        {
          "output_type": "stream",
          "text": [
            "(4072, 784)\n"
          ],
          "name": "stdout"
        },
        {
          "output_type": "display_data",
          "data": {
            "image/png": "[encoded data removed]",
            "text/plain": [
              "<Figure size 432x288 with 1 Axes>"
            ]
          },
          "metadata": {
            "tags": []
          }
        }
      ]
    },
    {
      "cell_type": "code",
      "metadata": {
        "id": "zqDFfBU7Da5S",
        "colab_type": "code",
        "colab": {
          "base_uri": "https://localhost:8080/",
          "height": 119
        },
        "outputId": "6a47b468-90a7-40f1-f5dc-5f933ece78ec"
      },
      "source": [
        "# Run the session\n",
        "  sess = tf.Session()\n",
        "  sess.run(init)\n",
        "  for i in range(500):\n",
        "    gh,lossy = sess.run([optimizer, computed_loss], feed_dict = {X : X_train_1, Y: Y_train}) \n",
        "                                                                  \n",
        "    if i%100 == 0:\n",
        "      print(\"Loss at {2} / {1} : {0}\".format(lossy,500,i))\n",
        "\n",
        "# reshape test image to feed into network\n",
        "test_image_reshape = test_image.reshape(1, 784)\n",
        "Z = sess.run(output_layer, feed_dict = {X:test_image_reshape})\n",
        "y_pred = np.argmax(Z, axis = 1)\n",
        "print(\"prediction for test image is {0}\".format(y_pred))"
      ],
      "execution_count": 19,
      "outputs": [
        {
          "output_type": "stream",
          "text": [
            "Loss at 0 / 500 : 2.3010404109954834\n",
            "Loss at 100 / 500 : 1.9097055196762085\n",
            "Loss at 200 / 500 : 1.7506848573684692\n",
            "Loss at 300 / 500 : 1.703810214996338\n",
            "Loss at 400 / 500 : 1.6816023588180542\n",
            "prediction for test image is [4]\n"
          ],
          "name": "stdout"
        }
      ]
    },
    {
      "cell_type": "code",
      "metadata": {
        "id": "6DOsaQEQHH5f",
        "colab_type": "code",
        "colab": {
          "base_uri": "https://localhost:8080/",
          "height": 538
        },
        "outputId": "6b8b7097-11b1-4c4d-b40d-af35fac2393e"
      },
      "source": [
        "# Shift the image to left by 4 units\n",
        "test_image_2 = test_image\n",
        "for i in range(test_image.shape[0]):\n",
        "  if i<20:\n",
        "    test_image_2[:,i]=test_image[:,i+4]\n",
        "    test_image_2 = np.clip(test_image_2,0, 1.0)\n",
        "    \n",
        "plt.imshow(test_image_2,cmap = 'gray')\n",
        "plt.show()\n",
        "\n",
        "plt.imshow(test_image,cmap = 'gray')\n",
        "\n",
        "# Testing the translated image\n",
        "# Reshape test image to feed into network\n",
        "test_image_reshape = test_image_2.reshape(1,784)\n",
        "\n",
        "Z = sess.run(output_layer, feed_dict = {X:test_image_reshape})\n",
        "y_pred = np.argmax(Z, axis = 1)\n",
        "print(\"Prediction for test image is {0}\".format(y_pred))\n",
        "\n",
        "\n",
        "\n",
        "\n",
        "\n",
        "\n",
        "\n",
        "\n",
        "\n"
      ],
      "execution_count": 21,
      "outputs": [
        {
          "output_type": "display_data",
          "data": {
            "image/png": "[encoded data removed]",
            "text/plain": [
              "<Figure size 432x288 with 1 Axes>"
            ]
          },
          "metadata": {
            "tags": []
          }
        },
        {
          "output_type": "stream",
          "text": [
            "Prediction for test image is [8]\n"
          ],
          "name": "stdout"
        },
        {
          "output_type": "display_data",
          "data": {
            "image/png": "[encoded data removed]",
            "text/plain": [
              "<Figure size 432x288 with 1 Axes>"
            ]
          },
          "metadata": {
            "tags": []
          }
        }
      ]
    }
  ]
}