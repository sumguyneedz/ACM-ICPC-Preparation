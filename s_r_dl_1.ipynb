{
  "nbformat": 4,
  "nbformat_minor": 0,
  "metadata": {
    "colab": {
      "name": "s_r_dl_1.ipynb",
      "version": "0.3.2",
      "provenance": [],
      "include_colab_link": true
    },
    "kernelspec": {
      "name": "python3",
      "display_name": "Python 3"
    }
  },
  "cells": [
    {
      "cell_type": "markdown",
      "metadata": {
        "id": "view-in-github",
        "colab_type": "text"
      },
      "source": [
        "<a href=\"https://colab.research.google.com/github/sumguyneedz/ACM-ICPC-Preparation/blob/master/s_r_dl_1.ipynb\" target=\"_parent\"><img src=\"https://colab.research.google.com/assets/colab-badge.svg\" alt=\"Open In Colab\"/></a>"
      ]
    },
    {
      "cell_type": "markdown",
      "metadata": {
        "id": "MpJ8SZga9bZb",
        "colab_type": "text"
      },
      "source": [
        "How to make a Prediction _ intro to deep learning 1 with siraj raval\n"
      ]
    },
    {
      "cell_type": "markdown",
      "metadata": {
        "id": "g8jRJlon9YtC",
        "colab_type": "text"
      },
      "source": [
        ""
      ]
    },
    {
      "cell_type": "code",
      "metadata": {
        "id": "9ma3KojW9kOf",
        "colab_type": "code",
        "colab": {
          "base_uri": "https://localhost:8080/",
          "height": 269
        },
        "outputId": "c332d61e-0842-431a-c15f-9e9e9a2b1f4f"
      },
      "source": [
        "import pandas as pd\n",
        "from sklearn import linear_model\n",
        "import matplotlib.pyplot as plt\n",
        "\n",
        "# read data \n",
        "\n",
        "dataframe = pd.read_fwf('brain_body.txt')\n",
        "x_values = dataframe[['Brain']]\n",
        "y_values = dataframe[['Body']]\n",
        "\n",
        "# train moddel on data\n",
        "body_reg = linear_model.LinearRegression()\n",
        "body_reg.fit(x_values, y_values)\n",
        "\n",
        "# Visualize results\n",
        "plt.scatter(x_values, y_values)\n",
        "plt.plot(x_values, body_reg.predict(x_values))\n",
        "plt.show()"
      ],
      "execution_count": 1,
      "outputs": [
        {
          "output_type": "display_data",
          "data": {
            "image/png": "[encoded data removed]",
            "text/plain": [
              "<Figure size 432x288 with 1 Axes>"
            ]
          },
          "metadata": {
            "tags": []
          }
        }
      ]
    },
    {
      "cell_type": "code",
      "metadata": {
        "id": "9WOZLFbXAjYt",
        "colab_type": "code",
        "colab": {}
      },
      "source": [
        ""
      ],
      "execution_count": 0,
      "outputs": []
    }
  ]
}