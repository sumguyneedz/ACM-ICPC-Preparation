{
  "nbformat": 4,
  "nbformat_minor": 0,
  "metadata": {
    "colab": {
      "name": "dl_14.ipynb",
      "version": "0.3.2",
      "provenance": [],
      "collapsed_sections": [],
      "include_colab_link": true
    },
    "kernelspec": {
      "name": "python3",
      "display_name": "Python 3"
    },
    "accelerator": "GPU"
  },
  "cells": [
    {
      "cell_type": "markdown",
      "metadata": {
        "id": "view-in-github",
        "colab_type": "text"
      },
      "source": [
        "<a href=\"https://colab.research.google.com/github/sumguyneedz/ACM-ICPC-Preparation/blob/master/dl_14.ipynb\" target=\"_parent\"><img src=\"https://colab.research.google.com/assets/colab-badge.svg\" alt=\"Open In Colab\"/></a>"
      ]
    },
    {
      "cell_type": "code",
      "metadata": {
        "id": "shhZo28Cumgz",
        "colab_type": "code",
        "colab": {}
      },
      "source": [
        "# Import the dependencies\n",
        "\n",
        "import cv2\n",
        "import matplotlib.pyplot as plt\n",
        "import numpy as np\n",
        "import tensorflow as tf\n"
      ],
      "execution_count": 0,
      "outputs": []
    },
    {
      "cell_type": "code",
      "metadata": {
        "id": "ONi123GsvO38",
        "colab_type": "code",
        "colab": {
          "base_uri": "https://localhost:8080/",
          "height": 85
        },
        "outputId": "787e1efc-9b7c-4120-d71c-f79e34f21bfe"
      },
      "source": [
        "from tensorflow.examples.tutorials.mnist import input_data\n",
        "mnist_data = input_data.read_data_sets(\"./data\", one_hot = True)"
      ],
      "execution_count": 10,
      "outputs": [
        {
          "output_type": "stream",
          "text": [
            "Extracting ./data/train-images-idx3-ubyte.gz\n",
            "Extracting ./data/train-labels-idx1-ubyte.gz\n",
            "Extracting ./data/t10k-images-idx3-ubyte.gz\n",
            "Extracting ./data/t10k-labels-idx1-ubyte.gz\n"
          ],
          "name": "stdout"
        }
      ]
    },
    {
      "cell_type": "code",
      "metadata": {
        "id": "fyKirARRo7J2",
        "colab_type": "code",
        "colab": {}
      },
      "source": [
        "num_training = mnist_data.train.num_examples\n",
        "num_testing = mnist_data.test.num_examples\n",
        "num_validation = mnist_data.validation.num_examples\n",
        "print(\"MNIST Datasize: Training samples: {0}, Testing samples:{1})"
      ],
      "execution_count": 0,
      "outputs": []
    },
    {
      "cell_type": "code",
      "metadata": {
        "id": "nOBL3ds5ps4X",
        "colab_type": "code",
        "colab": {}
      },
      "source": [
        ""
      ],
      "execution_count": 0,
      "outputs": []
    },
    {
      "cell_type": "code",
      "metadata": {
        "id": "QBEGdy5SqFYu",
        "colab_type": "code",
        "colab": {}
      },
      "source": [
        "# Network parameters of Nerural Network\n",
        "n_input = 784 # Input image of size 28 x 28\n",
        "n_hidden= 512 # First hidden layer\n",
        "n_hidden= 256 # Second hidden layer\n",
        "n_hidden =128 # Third hidden layer\n",
        "n_output = 10 # Output layer having (0-9) digits"
      ],
      "execution_count": 0,
      "outputs": []
    },
    {
      "cell_type": "code",
      "metadata": {
        "id": "WXJeVTDKrkkN",
        "colab_type": "code",
        "colab": {}
      },
      "source": [
        "learning_rate = le-4\n",
        "epochs = 3000\n",
        "batch_size = 128\n",
        "keep_prob = tf.placeholder(tf.float32)"
      ],
      "execution_count": 0,
      "outputs": []
    },
    {
      "cell_type": "code",
      "metadata": {
        "id": "QcNmkUuarygt",
        "colab_type": "code",
        "colab": {}
      },
      "source": [
        "# Building tensorflow graph\n",
        "X = tf.placeholder(tf.float32, [None, n_input])\n",
        "Y = tf.placeholder(tf.float32,[None, n_output])"
      ],
      "execution_count": 0,
      "outputs": []
    },
    {
      "cell_type": "code",
      "metadata": {
        "id": "kBccVB-DsaAB",
        "colab_type": "code",
        "colab": {}
      },
      "source": [
        "# Weight defination \n",
        "\n",
        "nn_weight = {\"W1\": tf.Variable(tf.truncated_normal([n_input, n_hidden_1], stddev= 0.1)),\n",
        "            \"W2\": tf.Variable(tf.truncated_normal([n_hidden_1, n_hidden_2], stddev=0.1)),\n",
        "            \"W3\": tf.Variable(tf.truncated_normal([n_hidden_2, n_hidden_3], stddev= 0.1)),\n",
        "            \"Wout\":tf.Variable(tf.truncated_normal([n_hidden_3, n_output], stddev= 0.1))\n",
        "            }\n",
        "\n",
        "nn_bias = { 'B1':tf.Variable(tf.truncated_normal([n_hidden_1])),\n",
        "          { 'B2':tf.Variable(tf.truncated_normal([n_hidden_1])),\n",
        "          { 'B3':tf.Variable(tf.truncated_normal([n_hidden_1])),\n",
        "          { 'B4':tf.Variable(tf.truncated_normal([n_hidden_1]))\n",
        "          }\n",
        "    "
      ],
      "execution_count": 0,
      "outputs": []
    },
    {
      "cell_type": "code",
      "metadata": {
        "id": "9ymZCU1iv1mB",
        "colab_type": "code",
        "colab": {}
      },
      "source": [
        ""
      ],
      "execution_count": 0,
      "outputs": []
    }
  ]
}